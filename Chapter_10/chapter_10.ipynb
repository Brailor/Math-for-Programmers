{
 "cells": [
  {
   "cell_type": "code",
   "execution_count": 98,
   "metadata": {},
   "outputs": [
    {
     "name": "stdout",
     "output_type": "stream",
     "text": [
      "The autoreload extension is already loaded. To reload it, use:\n",
      "  %reload_ext autoreload\n"
     ]
    }
   ],
   "source": [
    "%load_ext autoreload\n",
    "%autoreload 2\n",
    "\n",
    "from chapter_10 import *"
   ]
  },
  {
   "cell_type": "code",
   "execution_count": 99,
   "metadata": {},
   "outputs": [
    {
     "data": {
      "text/plain": [
       "x^2"
      ]
     },
     "execution_count": 99,
     "metadata": {},
     "output_type": "execute_result"
    }
   ],
   "source": [
    "# x^2\n",
    "Power(Variable(\"x\"), Number(2))"
   ]
  },
  {
   "cell_type": "code",
   "execution_count": 100,
   "metadata": {},
   "outputs": [
    {
     "data": {
      "text/plain": [
       "3 * x^2"
      ]
     },
     "execution_count": 100,
     "metadata": {},
     "output_type": "execute_result"
    }
   ],
   "source": [
    "# 3x^2\n",
    "Product(Number(3), Power(Variable(\"x\"), Number(2)))"
   ]
  },
  {
   "cell_type": "code",
   "execution_count": 101,
   "metadata": {},
   "outputs": [
    {
     "data": {
      "text/plain": [
       "(2)+(3)"
      ]
     },
     "execution_count": 101,
     "metadata": {},
     "output_type": "execute_result"
    }
   ],
   "source": [
    "Sum(Number(2), Number(3))"
   ]
  },
  {
   "cell_type": "code",
   "execution_count": 142,
   "metadata": {},
   "outputs": [],
   "source": [
    "# (3x2 + x) * sin(x)\n",
    "f_expression = Product(\n",
    "    Sum(\n",
    "        Product(\n",
    "            Number(3),\n",
    "            Power(Variable(\"x\"), Number(2))\n",
    "        ),\n",
    "        Variable(\"x\")\n",
    "    ),\n",
    "    Apply(\n",
    "        Function(\"sin\"),\n",
    "        Variable(\"x\")\n",
    "    )\n",
    ")"
   ]
  },
  {
   "attachments": {},
   "cell_type": "markdown",
   "metadata": {},
   "source": [
    "Exercise 10.1: You may have met the natural logarithm, a special mathematical function written ln(x). Draw the expression ln(yz) as a tree built from the elements and combinators described in the previous section."
   ]
  },
  {
   "attachments": {},
   "cell_type": "markdown",
   "metadata": {},
   "source": [
    "ln(y^z)"
   ]
  },
  {
   "attachments": {},
   "cell_type": "markdown",
   "metadata": {},
   "source": [
    "Exercise 10.2: Translate the expression from the previous exercise to Python code, given that the natural logarithm is calculated by the Python function math.log. Write it both as a Python function and as a data structure built from elements and combinators."
   ]
  },
  {
   "cell_type": "code",
   "execution_count": 103,
   "metadata": {},
   "outputs": [
    {
     "data": {
      "text/plain": [
       "1.3979400086720377"
      ]
     },
     "execution_count": 103,
     "metadata": {},
     "output_type": "execute_result"
    }
   ],
   "source": [
    "y = 5\n",
    "z = 2\n",
    "sol_10_2_py = math.log10(math.pow(y, z))\n",
    "sol_10_2_dst = Apply(\n",
    "    Function(\"ln\"),\n",
    "    Power(\n",
    "        Variable(\"y\"),\n",
    "        Variable(\"z\")\n",
    "    )\n",
    ")\n",
    "\n",
    "sol_10_2_py"
   ]
  },
  {
   "attachments": {},
   "cell_type": "markdown",
   "metadata": {},
   "source": [
    "Exercise 10.3: What is the expression represented by Product(Number(3), Sum(Variable(\"y\"),Variable(\"z\"))) ?"
   ]
  },
  {
   "attachments": {},
   "cell_type": "markdown",
   "metadata": {},
   "source": [
    "It is: 3 * (y + z)"
   ]
  },
  {
   "attachments": {},
   "cell_type": "markdown",
   "metadata": {},
   "source": [
    "\n",
    "\n",
    "Exercise 10.4: Implement a Quotient combinator representing one expression divided by another. How do you represent the following expression?\n"
   ]
  },
  {
   "cell_type": "code",
   "execution_count": 104,
   "metadata": {},
   "outputs": [],
   "source": [
    "# (a + b) / 2\n",
    "sol_10_4_dst = Quotient(\n",
    "    Sum(\n",
    "        Variable(\"a\"),\n",
    "        Variable(\"b\")\n",
    "    ),\n",
    "    Number(2)\n",
    ")\n"
   ]
  },
  {
   "attachments": {},
   "cell_type": "markdown",
   "metadata": {},
   "source": [
    "Exercise 10.5: Implement a Difference combinator representing one expression subtracted from another. How can you represent the expression b^2 − 4ac ?"
   ]
  },
  {
   "cell_type": "code",
   "execution_count": 105,
   "metadata": {},
   "outputs": [],
   "source": [
    "sol_10_5_dst = Difference(\n",
    "    Power(\n",
    "        Variable(\"b\"),\n",
    "        Number(2)\n",
    "    ),\n",
    "    Product(\n",
    "        Number(4),\n",
    "        Product(\n",
    "            Variable(\"a\"),\n",
    "            Variable(\"c\")\n",
    "        )\n",
    "    )\n",
    ")"
   ]
  },
  {
   "attachments": {},
   "cell_type": "markdown",
   "metadata": {},
   "source": [
    "Exercise 10.6: Implement a Negative combinator representing the negation of an expression. For example, the negation of x^2 + y is −(x^2 + y). Represent the latter expression in code using your new combinator."
   ]
  },
  {
   "cell_type": "code",
   "execution_count": 106,
   "metadata": {},
   "outputs": [],
   "source": [
    "sol_10_6_dst = Negative(\n",
    "    Sum(\n",
    "        Power(\n",
    "            Variable(\"x\"),\n",
    "            Number(2)\n",
    "        ),\n",
    "        Variable(\"y\")\n",
    "    )\n",
    ")"
   ]
  },
  {
   "attachments": {},
   "cell_type": "markdown",
   "metadata": {},
   "source": [
    "Exercise 10.7: Add a function called Sqrt that represents a square root and use it to encode the following formula:\n",
    "-b +- sqrt(b^2 - 4 ac) / 2a"
   ]
  },
  {
   "cell_type": "code",
   "execution_count": 107,
   "metadata": {},
   "outputs": [],
   "source": [
    "A = Variable('a')\n",
    "B = Variable('b')\n",
    "C = Variable('c')\n",
    "Sqrt = Function('sqrt')\n",
    "\n",
    "sol_10_7_dst = Quotient(\n",
    "    Sum(\n",
    "        Negative(B),\n",
    "        Apply(\n",
    "            Sqrt,\n",
    "            Difference(\n",
    "                Power(B, Number(2)),\n",
    "                Product(Number(4), Product(A, C))\n",
    "            )\n",
    "         )\n",
    "    ),\n",
    "    Product(Number(2), A)\n",
    ")"
   ]
  },
  {
   "cell_type": "code",
   "execution_count": 108,
   "metadata": {},
   "outputs": [
    {
     "data": {
      "text/plain": [
       "{'x'}"
      ]
     },
     "execution_count": 108,
     "metadata": {},
     "output_type": "execute_result"
    }
   ],
   "source": [
    "distinct_variables(Variable(\"x\"))"
   ]
  },
  {
   "cell_type": "code",
   "execution_count": 109,
   "metadata": {},
   "outputs": [
    {
     "data": {
      "text/plain": [
       "{'x', 'y'}"
      ]
     },
     "execution_count": 109,
     "metadata": {},
     "output_type": "execute_result"
    }
   ],
   "source": [
    "distinct_variables(Sum(Variable(\"x\"), Variable(\"y\")))"
   ]
  },
  {
   "cell_type": "code",
   "execution_count": 110,
   "metadata": {},
   "outputs": [
    {
     "data": {
      "text/plain": [
       "{'x'}"
      ]
     },
     "execution_count": 110,
     "metadata": {},
     "output_type": "execute_result"
    }
   ],
   "source": [
    "distinct_variables(f_expression)"
   ]
  },
  {
   "cell_type": "code",
   "execution_count": 111,
   "metadata": {},
   "outputs": [
    {
     "data": {
      "text/plain": [
       "{'a', 'b', 'c'}"
      ]
     },
     "execution_count": 111,
     "metadata": {},
     "output_type": "execute_result"
    }
   ],
   "source": [
    "distinct_variables(sol_10_7_dst)"
   ]
  },
  {
   "cell_type": "code",
   "execution_count": 112,
   "metadata": {},
   "outputs": [
    {
     "data": {
      "text/plain": [
       "KeyError('Variable y is not bound.')"
      ]
     },
     "execution_count": 112,
     "metadata": {},
     "output_type": "execute_result"
    }
   ],
   "source": [
    "Variable(\"y\").evaluate(x = 8)"
   ]
  },
  {
   "cell_type": "code",
   "execution_count": 113,
   "metadata": {},
   "outputs": [
    {
     "data": {
      "text/plain": [
       "4"
      ]
     },
     "execution_count": 113,
     "metadata": {},
     "output_type": "execute_result"
    }
   ],
   "source": [
    "Variable(\"y\").evaluate(y = 4, x = 5)"
   ]
  },
  {
   "cell_type": "code",
   "execution_count": 114,
   "metadata": {},
   "outputs": [
    {
     "data": {
      "text/plain": [
       "5"
      ]
     },
     "execution_count": 114,
     "metadata": {},
     "output_type": "execute_result"
    }
   ],
   "source": [
    "Number(5).evaluate(x = 10, y = 20)"
   ]
  },
  {
   "cell_type": "code",
   "execution_count": 115,
   "metadata": {},
   "outputs": [
    {
     "data": {
      "text/plain": [
       "10"
      ]
     },
     "execution_count": 115,
     "metadata": {},
     "output_type": "execute_result"
    }
   ],
   "source": [
    "Product(Variable(\"x\"), Variable(\"y\")).evaluate(x=2,y=5)"
   ]
  },
  {
   "cell_type": "code",
   "execution_count": 116,
   "metadata": {},
   "outputs": [],
   "source": [
    "# 5 + A(x + y) => 5 + Ax + Ay\n",
    "res = Sum(\n",
    "    Number(5),\n",
    "    Sum(\n",
    "        Number(2),\n",
    "        Variable(\"a\")\n",
    "    )\n",
    ")"
   ]
  },
  {
   "cell_type": "code",
   "execution_count": 117,
   "metadata": {},
   "outputs": [
    {
     "data": {
      "text/plain": [
       "(x * A)+(y * A)"
      ]
     },
     "execution_count": 117,
     "metadata": {},
     "output_type": "execute_result"
    }
   ],
   "source": [
    "# A(x + y)\n",
    "res1 = Product(\n",
    "    Variable(\"A\"),\n",
    "    Sum(\n",
    "        Variable(\"x\"),\n",
    "        Variable(\"y\")\n",
    "    )\n",
    ")\n",
    "res1.expand()"
   ]
  },
  {
   "cell_type": "code",
   "execution_count": 118,
   "metadata": {},
   "outputs": [
    {
     "data": {
      "text/plain": [
       "True"
      ]
     },
     "execution_count": 118,
     "metadata": {},
     "output_type": "execute_result"
    }
   ],
   "source": [
    "m = set([\"a\", \"b\", \"c\"])\n",
    "'a' in m"
   ]
  },
  {
   "cell_type": "code",
   "execution_count": 119,
   "metadata": {},
   "outputs": [
    {
     "data": {
      "text/plain": [
       "{'log', 'sin'}"
      ]
     },
     "execution_count": 119,
     "metadata": {},
     "output_type": "execute_result"
    }
   ],
   "source": [
    "exp = Sum(Apply(Function(\"sin\"), Number(5)), Number(4))\n",
    "\n",
    "# sin(log(x)) + 4\n",
    "exp = Sum(\n",
    "    Apply(\n",
    "        Function(\"sin\"),\n",
    "          Apply(\n",
    "                 Function(\"log\"),\n",
    "                 Variable(\"x\"))\n",
    "          ),\n",
    "    Number(4)\n",
    "    )\n",
    "\n",
    "distinct_functions(exp)\n"
   ]
  },
  {
   "cell_type": "code",
   "execution_count": 120,
   "metadata": {},
   "outputs": [
    {
     "data": {
      "text/plain": [
       "{'f', 'g', 'log', 'sin'}"
      ]
     },
     "execution_count": 120,
     "metadata": {},
     "output_type": "execute_result"
    }
   ],
   "source": [
    "exp = Product(\n",
    "    Apply(\n",
    "        Function(\"sin\"),\n",
    "          Apply(\n",
    "                 Function(\"log\"),\n",
    "                 Variable(\"x\"))\n",
    "          ),\n",
    "    Sum(\n",
    "        Variable(\"x\"),\n",
    "        Number(15),\n",
    "        Apply(\n",
    "            Function(\"f\"),\n",
    "            Apply(\n",
    "                Function(\"g\"),\n",
    "                Number(20)\n",
    "            )\n",
    "        )\n",
    "    ) \n",
    ")\n",
    "\n",
    "distinct_functions(exp)"
   ]
  },
  {
   "cell_type": "code",
   "execution_count": 121,
   "metadata": {},
   "outputs": [
    {
     "data": {
      "text/plain": [
       "True"
      ]
     },
     "execution_count": 121,
     "metadata": {},
     "output_type": "execute_result"
    }
   ],
   "source": [
    "exp = Sum(Number(5), Number(1))\n",
    "contains_sum(exp)"
   ]
  },
  {
   "cell_type": "code",
   "execution_count": 122,
   "metadata": {},
   "outputs": [
    {
     "data": {
      "text/plain": [
       "True"
      ]
     },
     "execution_count": 122,
     "metadata": {},
     "output_type": "execute_result"
    }
   ],
   "source": [
    "exp = Product(\n",
    "    Sum(Number(5), Number(1)),\n",
    "    Number(10)\n",
    ")\n",
    "contains_sum(exp)"
   ]
  },
  {
   "cell_type": "code",
   "execution_count": 123,
   "metadata": {},
   "outputs": [
    {
     "data": {
      "text/plain": [
       "True"
      ]
     },
     "execution_count": 123,
     "metadata": {},
     "output_type": "execute_result"
    }
   ],
   "source": [
    "exp = Apply(\n",
    "    Function(\"log\"),\n",
    "    Sum(Number(2), Number(5))\n",
    ")\n",
    "\n",
    "contains_sum(exp)"
   ]
  },
  {
   "cell_type": "code",
   "execution_count": 124,
   "metadata": {},
   "outputs": [
    {
     "data": {
      "text/plain": [
       "2"
      ]
     },
     "execution_count": 124,
     "metadata": {},
     "output_type": "execute_result"
    }
   ],
   "source": [
    "Number(2)"
   ]
  },
  {
   "cell_type": "code",
   "execution_count": 125,
   "metadata": {},
   "outputs": [
    {
     "data": {
      "text/plain": [
       "(5)+(7)"
      ]
     },
     "execution_count": 125,
     "metadata": {},
     "output_type": "execute_result"
    }
   ],
   "source": [
    "Sum(Number(5), Number(7))"
   ]
  },
  {
   "cell_type": "code",
   "execution_count": 126,
   "metadata": {},
   "outputs": [
    {
     "data": {
      "text/plain": [
       "(x)+(5)"
      ]
     },
     "execution_count": 126,
     "metadata": {},
     "output_type": "execute_result"
    }
   ],
   "source": [
    "Sum(Variable(\"x\"), Number(5))"
   ]
  },
  {
   "cell_type": "code",
   "execution_count": 127,
   "metadata": {},
   "outputs": [
    {
     "data": {
      "text/plain": [
       "((4)+(5))+(y)"
      ]
     },
     "execution_count": 127,
     "metadata": {},
     "output_type": "execute_result"
    }
   ],
   "source": [
    "Sum(\n",
    "    Sum(\n",
    "        Number(4),\n",
    "        Number(5)\n",
    "    ),\n",
    "    Variable(\"y\")\n",
    ")"
   ]
  },
  {
   "cell_type": "code",
   "execution_count": 128,
   "metadata": {},
   "outputs": [
    {
     "data": {
      "text/plain": [
       "(x)+((5)+(10))"
      ]
     },
     "execution_count": 128,
     "metadata": {},
     "output_type": "execute_result"
    }
   ],
   "source": [
    "Sum(Variable(\"x\"), Sum(Number(5), Number(10)))"
   ]
  },
  {
   "cell_type": "code",
   "execution_count": 129,
   "metadata": {},
   "outputs": [
    {
     "data": {
      "text/plain": [
       "(1)+(2)+(3)"
      ]
     },
     "execution_count": 129,
     "metadata": {},
     "output_type": "execute_result"
    }
   ],
   "source": [
    "Sum(Number(1), Number(2), Number(3))"
   ]
  },
  {
   "cell_type": "code",
   "execution_count": 130,
   "metadata": {},
   "outputs": [
    {
     "data": {
      "text/plain": [
       "10^2"
      ]
     },
     "execution_count": 130,
     "metadata": {},
     "output_type": "execute_result"
    }
   ],
   "source": [
    "Power(Number(10), Number(2))"
   ]
  },
  {
   "cell_type": "code",
   "execution_count": 131,
   "metadata": {},
   "outputs": [
    {
     "data": {
      "text/plain": [
       "(2)+(8)^y"
      ]
     },
     "execution_count": 131,
     "metadata": {},
     "output_type": "execute_result"
    }
   ],
   "source": [
    "Power(\n",
    "    Sum(\n",
    "        Number(2),\n",
    "        Number(8)\n",
    "    ),\n",
    "    Variable(\"y\")\n",
    ")\n",
    "# should be (2 + 8)^y"
   ]
  },
  {
   "cell_type": "code",
   "execution_count": 132,
   "metadata": {},
   "outputs": [
    {
     "data": {
      "text/plain": [
       "(2)+(x * 10)^y"
      ]
     },
     "execution_count": 132,
     "metadata": {},
     "output_type": "execute_result"
    }
   ],
   "source": [
    "Power(\n",
    "    Sum(\n",
    "        Number(2),\n",
    "        Product(\n",
    "            Variable(\"x\"),\n",
    "            Number(10)\n",
    "        )\n",
    "    ),\n",
    "    Variable(\"y\")\n",
    ")"
   ]
  },
  {
   "cell_type": "code",
   "execution_count": 133,
   "metadata": {},
   "outputs": [
    {
     "data": {
      "text/plain": [
       "(5)+(2 * 5)"
      ]
     },
     "execution_count": 133,
     "metadata": {},
     "output_type": "execute_result"
    }
   ],
   "source": [
    "Sum(Number(5), Variable(\"x\")).substitute(Variable(\"x\"), Product(Number(2), Number(5)))"
   ]
  },
  {
   "cell_type": "code",
   "execution_count": 134,
   "metadata": {},
   "outputs": [
    {
     "data": {
      "text/plain": [
       "10"
      ]
     },
     "execution_count": 134,
     "metadata": {},
     "output_type": "execute_result"
    }
   ],
   "source": [
    "Product(Variable(\"x\"), Variable(y)).python_function(**{\"x\": 2, \"y\":5})"
   ]
  },
  {
   "cell_type": "code",
   "execution_count": 135,
   "metadata": {},
   "outputs": [
    {
     "name": "stdout",
     "output_type": "stream",
     "text": [
      "f(5)\n"
     ]
    },
    {
     "data": {
      "text/plain": [
       "25"
      ]
     },
     "execution_count": 135,
     "metadata": {},
     "output_type": "execute_result"
    }
   ],
   "source": [
    "exp = Apply(Function(\"f\"), Number(5))\n",
    "print(exp)\n",
    "exp.python_function(f=lambda x: x * x)"
   ]
  },
  {
   "cell_type": "code",
   "execution_count": 136,
   "metadata": {},
   "outputs": [
    {
     "data": {
      "text/plain": [
       "10 - 5"
      ]
     },
     "execution_count": 136,
     "metadata": {},
     "output_type": "execute_result"
    }
   ],
   "source": [
    "Difference(Number(10), Number(5))"
   ]
  },
  {
   "cell_type": "code",
   "execution_count": 137,
   "metadata": {},
   "outputs": [
    {
     "name": "stdout",
     "output_type": "stream",
     "text": [
      "<class 'chapter_10.Variable'>\n",
      "<class 'chapter_10.Variable'>\n",
      "<class 'chapter_10.Number'>\n"
     ]
    },
    {
     "data": {
      "text/plain": [
       "(1)+(0)+(0)"
      ]
     },
     "execution_count": 137,
     "metadata": {},
     "output_type": "execute_result"
    }
   ],
   "source": [
    "Sum(Variable(\"x\"),Variable(\"c\"),Number(1)).derivative(Variable(\"x\")).evaluate(x = 2)"
   ]
  },
  {
   "cell_type": "code",
   "execution_count": 138,
   "metadata": {},
   "outputs": [
    {
     "data": {
      "text/plain": [
       "(0 * x)+(c * 1)"
      ]
     },
     "execution_count": 138,
     "metadata": {},
     "output_type": "execute_result"
    }
   ],
   "source": [
    "Product(Variable(\"c\"),Variable(\"x\")).derivative(Variable(\"x\"))"
   ]
  },
  {
   "cell_type": "code",
   "execution_count": 139,
   "metadata": {},
   "outputs": [
    {
     "data": {
      "text/plain": [
       "1 * 2 * x^2 - 1 * cos(x^2)"
      ]
     },
     "execution_count": 139,
     "metadata": {},
     "output_type": "execute_result"
    }
   ],
   "source": [
    "# sin(x^2)\n",
    "Apply(Function(\"sin\"),Power(Variable(\"x\"),Number(2))).derivative(Variable(\"x\"))"
   ]
  },
  {
   "cell_type": "code",
   "execution_count": 140,
   "metadata": {},
   "outputs": [
    {
     "data": {
      "text/plain": [
       "(1 * 2)+(x * 0) * cos(x * 2)"
      ]
     },
     "execution_count": 140,
     "metadata": {},
     "output_type": "execute_result"
    }
   ],
   "source": [
    "Apply(Function(\"sin\"), Product(Variable(\"x\"),Number(2))).derivative(Variable(\"x\"))"
   ]
  },
  {
   "cell_type": "code",
   "execution_count": 143,
   "metadata": {},
   "outputs": [
    {
     "name": "stdout",
     "output_type": "stream",
     "text": [
      "<class 'chapter_10.Product'>\n",
      "<class 'chapter_10.Variable'>\n"
     ]
    },
    {
     "data": {
      "text/plain": [
       "(((0 * x^2)+(3 * 1 * 2 * x^2 - 1))+(1) * sin(x))+((3 * x^2)+(x) * 1 * cos(x))"
      ]
     },
     "execution_count": 143,
     "metadata": {},
     "output_type": "execute_result"
    }
   ],
   "source": [
    "# (3x^2 + x) sin(x)\n",
    "type( f_expression)#.derivative()\n",
    "f_expression.derivative(Variable(\"x\"))"
   ]
  },
  {
   "cell_type": "code",
   "execution_count": null,
   "metadata": {},
   "outputs": [],
   "source": []
  }
 ],
 "metadata": {
  "kernelspec": {
   "display_name": "base",
   "language": "python",
   "name": "python3"
  },
  "language_info": {
   "codemirror_mode": {
    "name": "ipython",
    "version": 3
   },
   "file_extension": ".py",
   "mimetype": "text/x-python",
   "name": "python",
   "nbconvert_exporter": "python",
   "pygments_lexer": "ipython3",
   "version": "3.11.7"
  },
  "orig_nbformat": 4
 },
 "nbformat": 4,
 "nbformat_minor": 2
}
