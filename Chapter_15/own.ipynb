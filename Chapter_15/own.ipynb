{
 "cells": [
  {
   "cell_type": "code",
   "execution_count": 71,
   "metadata": {},
   "outputs": [
    {
     "ename": "ImportError",
     "evalue": "cannot import name 'abs' from 'math' (/Users/viktorohad/anaconda3/lib/python3.11/lib-dynload/math.cpython-311-darwin.so)",
     "output_type": "error",
     "traceback": [
      "\u001b[0;31m---------------------------------------------------------------------------\u001b[0m",
      "\u001b[0;31mImportError\u001b[0m                               Traceback (most recent call last)",
      "Cell \u001b[0;32mIn[71], line 3\u001b[0m\n\u001b[1;32m      1\u001b[0m \u001b[39mfrom\u001b[39;00m \u001b[39mcar_data\u001b[39;00m \u001b[39mimport\u001b[39;00m bmws, priuses\n\u001b[1;32m      2\u001b[0m \u001b[39mfrom\u001b[39;00m \u001b[39mmatplotlib\u001b[39;00m \u001b[39mimport\u001b[39;00m pyplot \u001b[39mas\u001b[39;00m plt\n\u001b[0;32m----> 3\u001b[0m \u001b[39mfrom\u001b[39;00m \u001b[39mmath\u001b[39;00m \u001b[39mimport\u001b[39;00m exp, \u001b[39mabs\u001b[39m, log\n",
      "\u001b[0;31mImportError\u001b[0m: cannot import name 'abs' from 'math' (/Users/viktorohad/anaconda3/lib/python3.11/lib-dynload/math.cpython-311-darwin.so)"
     ]
    }
   ],
   "source": [
    "from car_data import bmws, priuses\n",
    "from matplotlib import pyplot as plt\n",
    "from math import exp, log\n"
   ]
  },
  {
   "cell_type": "code",
   "execution_count": null,
   "metadata": {},
   "outputs": [
    {
     "data": {
      "text/plain": [
       "[(93404.0, 13999.0, 1),\n",
       " (110890.0, 13995.0, 1),\n",
       " (94133.0, 13982.0, 1),\n",
       " (46778.0, 14599.0, 1),\n",
       " (53106.0, 22500.0, 1),\n",
       " (58761.0, 24998.0, 1),\n",
       " (108816.0, 24947.0, 1),\n",
       " (81100.0, 13995.0, 1),\n",
       " (90000.0, 8400.0, 1),\n",
       " (68613.0, 14995.0, 1),\n",
       " (94000.0, 11995.0, 1),\n",
       " (92500.0, 10995.0, 1),\n",
       " (112081.0, 11995.0, 1),\n",
       " (105121.0, 11500.0, 1),\n",
       " (92000.0, 2013.0, 1),\n",
       " (107953.0, 12999.0, 1),\n",
       " (56000.0, 18995.0, 1),\n",
       " (101191.0, 18900.0, 1),\n",
       " (64365.0, 16998.0, 1),\n",
       " (66000.0, 10000.0, 1),\n",
       " (76675.0, 12500.0, 1),\n",
       " (93015.0, 15995.0, 1),\n",
       " (80917.0, 14970.0, 1),\n",
       " (96000.0, 16795.0, 1),\n",
       " (70000.0, 12999.0, 1),\n",
       " (107000.0, 11950.0, 1),\n",
       " (78000.0, 18995.0, 1),\n",
       " (78000.0, 15000.0, 1),\n",
       " (92000.0, 2013.0, 1),\n",
       " (57624.0, 21963.0, 1),\n",
       " (77854.0, 16995.0, 1),\n",
       " (48310.0, 22998.0, 1),\n",
       " (51656.0, 20998.0, 1),\n",
       " (62410.0, 19991.0, 1),\n",
       " (39332.0, 29995.0, 1),\n",
       " (31420.0, 21000.0, 1),\n",
       " (41267.0, 22450.0, 1),\n",
       " (73000.0, 19999.0, 1),\n",
       " (94608.0, 11995.0, 1),\n",
       " (67000.0, 24964.0, 1),\n",
       " (50000.0, 18985.0, 1),\n",
       " (73601.0, 16999.0, 1),\n",
       " (50000.0, 18985.0, 1),\n",
       " (95229.0, 15980.0, 1),\n",
       " (69000.0, 27247.0, 1),\n",
       " (73309.0, 13790.0, 1),\n",
       " (41573.0, 21970.0, 1),\n",
       " (42172.0, 25842.0, 1),\n",
       " (41085.0, 18750.0, 1),\n",
       " (81625.0, 13990.0, 1),\n",
       " (38000.0, 24900.0, 1),\n",
       " (65000.0, 12000.0, 1),\n",
       " (103000.0, 16495.0, 1),\n",
       " (76000.0, 18500.0, 1),\n",
       " (34000.0, 19950.0, 1),\n",
       " (66000.0, 29500.0, 1),\n",
       " (36756.0, 18999.0, 1),\n",
       " (42681.0, 26697.0, 1),\n",
       " (29000.0, 29997.0, 1),\n",
       " (51000.0, 26968.0, 1),\n",
       " (26000.0, 25980.0, 1),\n",
       " (88262.0, 18338.0, 1),\n",
       " (48321.0, 21322.0, 1),\n",
       " (93762.0, 16991.0, 1),\n",
       " (79972.0, 16499.0, 1),\n",
       " (54177.0, 20774.0, 1),\n",
       " (43294.0, 21800.0, 1),\n",
       " (55736.0, 24985.0, 1),\n",
       " (74896.0, 22599.0, 1),\n",
       " (72282.0, 20770.0, 1),\n",
       " (58328.0, 22000.0, 1),\n",
       " (49856.0, 20998.0, 1),\n",
       " (42229.0, 21998.0, 1),\n",
       " (38126.0, 25998.0, 1),\n",
       " (46000.0, 21900.0, 1),\n",
       " (95000.0, 18500.0, 1),\n",
       " (30000.0, 19899.0, 1),\n",
       " (63000.0, 21500.0, 1),\n",
       " (39835.0, 27629.0, 1),\n",
       " (51043.0, 25964.0, 1),\n",
       " (27000.0, 30998.0, 1),\n",
       " (39591.0, 25000.0, 1),\n",
       " (37703.0, 35990.0, 1),\n",
       " (41467.0, 30254.0, 1),\n",
       " (83000.0, 15900.0, 1),\n",
       " (58623.0, 21998.0, 1),\n",
       " (57276.0, 21998.0, 1),\n",
       " (27620.0, 23998.0, 1),\n",
       " (40237.0, 21998.0, 1),\n",
       " (52961.0, 22998.0, 1),\n",
       " (36707.0, 34888.0, 1),\n",
       " (42363.0, 29891.0, 1),\n",
       " (44943.0, 23697.0, 1),\n",
       " (90000.0, 11000.0, 1),\n",
       " (90000.0, 13000.0, 1),\n",
       " (42470.0, 30977.0, 1),\n",
       " (27000.0, 20999.0, 1),\n",
       " (37000.0, 31990.0, 1),\n",
       " (63000.0, 2016.0, 1),\n",
       " (51000.0, 2016.0, 1),\n",
       " (59014.0, 13995.0, 0),\n",
       " (70000.0, 9900.0, 0),\n",
       " (84507.0, 14998.0, 0),\n",
       " (76000.0, 8300.0, 0),\n",
       " (41868.0, 15998.0, 0),\n",
       " (40631.0, 13991.0, 0),\n",
       " (74000.0, 10532.0, 0),\n",
       " (69703.0, 12900.0, 0),\n",
       " (37000.0, 15850.0, 0),\n",
       " (33000.0, 13995.0, 0),\n",
       " (75000.0, 9500.0, 0),\n",
       " (35000.0, 11100.0, 0),\n",
       " (97109.0, 11991.0, 0),\n",
       " (128882.0, 8359.0, 0),\n",
       " (39000.0, 13759.0, 0),\n",
       " (65000.0, 13990.0, 0),\n",
       " (37000.0, 12950.0, 0),\n",
       " (130000.0, 9500.0, 0),\n",
       " (63430.0, 12995.0, 0),\n",
       " (120000.0, 7600.0, 0),\n",
       " (74000.0, 9000.0, 0),\n",
       " (46000.0, 13982.0, 0),\n",
       " (73428.0, 14991.0, 0),\n",
       " (200000.0, 7950.0, 0),\n",
       " (88180.0, 12998.0, 0),\n",
       " (89466.0, 14599.0, 0),\n",
       " (76985.0, 11990.0, 0),\n",
       " (65000.0, 13990.0, 0),\n",
       " (63621.0, 12395.0, 0),\n",
       " (96000.0, 7900.0, 0),\n",
       " (74000.0, 9000.0, 0),\n",
       " (75000.0, 11000.0, 0),\n",
       " (143000.0, 8999.0, 0),\n",
       " (112000.0, 8900.0, 0),\n",
       " (74000.0, 9000.0, 0),\n",
       " (185000.0, 5950.0, 0),\n",
       " (80424.0, 13000.0, 0),\n",
       " (48655.0, 17998.0, 0),\n",
       " (102000.0, 9997.0, 0),\n",
       " (67508.0, 14991.0, 0),\n",
       " (39395.0, 18998.0, 0),\n",
       " (44531.0, 16577.0, 0),\n",
       " (68000.0, 12495.0, 0),\n",
       " (35000.0, 11999.0, 0),\n",
       " (68000.0, 12495.0, 0),\n",
       " (115000.0, 10900.0, 0),\n",
       " (66293.0, 14472.0, 0),\n",
       " (141000.0, 10000.0, 0),\n",
       " (109496.0, 9677.0, 0),\n",
       " (82000.0, 7500.0, 0),\n",
       " (106361.0, 10953.0, 0),\n",
       " (187000.0, 8800.0, 0),\n",
       " (76912.0, 11993.0, 0),\n",
       " (117000.0, 9450.0, 0),\n",
       " (113963.0, 11494.0, 0),\n",
       " (72000.0, 12490.0, 0),\n",
       " (71218.0, 11994.0, 0),\n",
       " (48924.0, 13786.0, 0),\n",
       " (100000.0, 7800.0, 0),\n",
       " (98531.0, 10979.0, 0),\n",
       " (43015.0, 16977.0, 0),\n",
       " (29695.0, 16599.0, 0),\n",
       " (44640.0, 16900.0, 0),\n",
       " (56478.0, 13990.0, 0),\n",
       " (114959.0, 11060.0, 0),\n",
       " (83861.0, 13000.0, 0),\n",
       " (91314.0, 11911.0, 0),\n",
       " (37000.0, 16375.0, 0),\n",
       " (46000.0, 14500.0, 0),\n",
       " (45358.0, 16991.0, 0),\n",
       " (68432.0, 16998.0, 0),\n",
       " (37739.0, 19998.0, 0),\n",
       " (89352.0, 12995.0, 0),\n",
       " (65000.0, 13500.0, 0),\n",
       " (61000.0, 13000.0, 0),\n",
       " (35385.0, 13988.0, 0),\n",
       " (65000.0, 13500.0, 0),\n",
       " (57000.0, 16791.0, 0),\n",
       " (90019.0, 14790.0, 0),\n",
       " (136095.0, 11595.0, 0),\n",
       " (27000.0, 16235.0, 0),\n",
       " (54480.0, 17910.0, 0),\n",
       " (100000.0, 16000.0, 0),\n",
       " (65899.0, 16482.0, 0),\n",
       " (27000.0, 17734.0, 0),\n",
       " (144000.0, 9800.0, 0),\n",
       " (26989.0, 17925.0, 0),\n",
       " (67662.0, 13400.0, 0),\n",
       " (38401.0, 16998.0, 0),\n",
       " (80982.0, 13999.0, 0),\n",
       " (43000.0, 17492.0, 0),\n",
       " (87428.0, 11794.0, 0),\n",
       " (34028.0, 17491.0, 0),\n",
       " (37000.0, 15800.0, 0),\n",
       " (32000.0, 20995.0, 0),\n",
       " (89000.0, 12999.0, 0),\n",
       " (64000.0, 15000.0, 0),\n",
       " (45000.0, 16900.0, 0),\n",
       " (38000.0, 13500.0, 0),\n",
       " (71000.0, 12500.0, 0)]"
      ]
     },
     "execution_count": 37,
     "metadata": {},
     "output_type": "execute_result"
    }
   ],
   "source": [
    "relevant_bmws = [(b.mileage, b.price, 1) for b in bmws]\n",
    "relevant_priuses = [(b.mileage, b.price, 0) for b in priuses]\n",
    "all_car_data = [\n",
    "    *relevant_bmws,\n",
    "    *relevant_priuses\n",
    "]\n",
    "all_car_data"
   ]
  },
  {
   "cell_type": "code",
   "execution_count": null,
   "metadata": {},
   "outputs": [],
   "source": [
    "def bmw_finder(mileage, price):\n",
    "    return 1 if price > 25000 else 0"
   ]
  },
  {
   "cell_type": "code",
   "execution_count": null,
   "metadata": {},
   "outputs": [],
   "source": [
    "def test_classifier(classifier, data):\n",
    "    trues = 0\n",
    "    falses = 0\n",
    "    for mileage,price,is_bmw in data:\n",
    "        if is_bmw == classifier(mileage, price):\n",
    "            trues += 1\n",
    "        else:\n",
    "            falses += 1\n",
    "    return trues / (trues + falses)"
   ]
  },
  {
   "cell_type": "code",
   "execution_count": null,
   "metadata": {},
   "outputs": [
    {
     "data": {
      "text/plain": [
       "0.59"
      ]
     },
     "execution_count": 40,
     "metadata": {},
     "output_type": "execute_result"
    }
   ],
   "source": [
    "test_classifier(bmw_finder, all_car_data)"
   ]
  },
  {
   "attachments": {},
   "cell_type": "markdown",
   "metadata": {},
   "source": [
    "Exercise 15.1: Update the test_classifier function to print the number of true positives, true negatives, false positives, and false negatives. Printing these for the bmw_finder classifier, what can you tell about the performance of the classifier?"
   ]
  },
  {
   "cell_type": "code",
   "execution_count": null,
   "metadata": {},
   "outputs": [],
   "source": [
    "def test_classifier_print(classifier, data):\n",
    "    trues = 0\n",
    "    falses = 0\n",
    "    for mileage,price,is_bmw in data:\n",
    "        classification = classifier(mileage, price)\n",
    "        if is_bmw == classification:\n",
    "            trues += 1\n",
    "            print(\"True positive\")\n",
    "        elif (is_bmw == 1) and classification == 0:\n",
    "            falses += 1\n",
    "            print(\"False negative\")\n",
    "\n",
    "        elif (is_bmw == 0) and classification == 1:\n",
    "            trues += 1\n",
    "            print(\"False positive\")\n",
    "        else:\n",
    "            falses += 1\n",
    "            print(\"True negative\")\n",
    "    return trues / (trues + falses)"
   ]
  },
  {
   "cell_type": "code",
   "execution_count": null,
   "metadata": {},
   "outputs": [
    {
     "name": "stdout",
     "output_type": "stream",
     "text": [
      "False negative\n",
      "False negative\n",
      "False negative\n",
      "False negative\n",
      "False negative\n",
      "False negative\n",
      "False negative\n",
      "False negative\n",
      "False negative\n",
      "False negative\n",
      "False negative\n",
      "False negative\n",
      "False negative\n",
      "False negative\n",
      "False negative\n",
      "False negative\n",
      "False negative\n",
      "False negative\n",
      "False negative\n",
      "False negative\n",
      "False negative\n",
      "False negative\n",
      "False negative\n",
      "False negative\n",
      "False negative\n",
      "False negative\n",
      "False negative\n",
      "False negative\n",
      "False negative\n",
      "False negative\n",
      "False negative\n",
      "False negative\n",
      "False negative\n",
      "False negative\n",
      "True positive\n",
      "False negative\n",
      "False negative\n",
      "False negative\n",
      "False negative\n",
      "False negative\n",
      "False negative\n",
      "False negative\n",
      "False negative\n",
      "False negative\n",
      "True positive\n",
      "False negative\n",
      "False negative\n",
      "True positive\n",
      "False negative\n",
      "False negative\n",
      "False negative\n",
      "False negative\n",
      "False negative\n",
      "False negative\n",
      "False negative\n",
      "True positive\n",
      "False negative\n",
      "True positive\n",
      "True positive\n",
      "True positive\n",
      "True positive\n",
      "False negative\n",
      "False negative\n",
      "False negative\n",
      "False negative\n",
      "False negative\n",
      "False negative\n",
      "False negative\n",
      "False negative\n",
      "False negative\n",
      "False negative\n",
      "False negative\n",
      "False negative\n",
      "True positive\n",
      "False negative\n",
      "False negative\n",
      "False negative\n",
      "False negative\n",
      "True positive\n",
      "True positive\n",
      "True positive\n",
      "False negative\n",
      "True positive\n",
      "True positive\n",
      "False negative\n",
      "False negative\n",
      "False negative\n",
      "False negative\n",
      "False negative\n",
      "False negative\n",
      "True positive\n",
      "True positive\n",
      "False negative\n",
      "False negative\n",
      "False negative\n",
      "True positive\n",
      "False negative\n",
      "True positive\n",
      "False negative\n",
      "False negative\n",
      "True positive\n",
      "True positive\n",
      "True positive\n",
      "True positive\n",
      "True positive\n",
      "True positive\n",
      "True positive\n",
      "True positive\n",
      "True positive\n",
      "True positive\n",
      "True positive\n",
      "True positive\n",
      "True positive\n",
      "True positive\n",
      "True positive\n",
      "True positive\n",
      "True positive\n",
      "True positive\n",
      "True positive\n",
      "True positive\n",
      "True positive\n",
      "True positive\n",
      "True positive\n",
      "True positive\n",
      "True positive\n",
      "True positive\n",
      "True positive\n",
      "True positive\n",
      "True positive\n",
      "True positive\n",
      "True positive\n",
      "True positive\n",
      "True positive\n",
      "True positive\n",
      "True positive\n",
      "True positive\n",
      "True positive\n",
      "True positive\n",
      "True positive\n",
      "True positive\n",
      "True positive\n",
      "True positive\n",
      "True positive\n",
      "True positive\n",
      "True positive\n",
      "True positive\n",
      "True positive\n",
      "True positive\n",
      "True positive\n",
      "True positive\n",
      "True positive\n",
      "True positive\n",
      "True positive\n",
      "True positive\n",
      "True positive\n",
      "True positive\n",
      "True positive\n",
      "True positive\n",
      "True positive\n",
      "True positive\n",
      "True positive\n",
      "True positive\n",
      "True positive\n",
      "True positive\n",
      "True positive\n",
      "True positive\n",
      "True positive\n",
      "True positive\n",
      "True positive\n",
      "True positive\n",
      "True positive\n",
      "True positive\n",
      "True positive\n",
      "True positive\n",
      "True positive\n",
      "True positive\n",
      "True positive\n",
      "True positive\n",
      "True positive\n",
      "True positive\n",
      "True positive\n",
      "True positive\n",
      "True positive\n",
      "True positive\n",
      "True positive\n",
      "True positive\n",
      "True positive\n",
      "True positive\n",
      "True positive\n",
      "True positive\n",
      "True positive\n",
      "True positive\n",
      "True positive\n",
      "True positive\n",
      "True positive\n",
      "True positive\n",
      "True positive\n",
      "True positive\n",
      "True positive\n",
      "True positive\n"
     ]
    },
    {
     "data": {
      "text/plain": [
       "0.59"
      ]
     },
     "execution_count": 42,
     "metadata": {},
     "output_type": "execute_result"
    }
   ],
   "source": [
    "test_classifier_print(bmw_finder, all_car_data)"
   ]
  },
  {
   "cell_type": "code",
   "execution_count": null,
   "metadata": {},
   "outputs": [],
   "source": [
    "def test_classifier_refined(classifier, data, verbose=False):\n",
    "    true_positives = 0\n",
    "    true_negatives = 0\n",
    "    false_positives = 0\n",
    "    false_negatives = 0\n",
    "\n",
    "    for mileage,price,is_bmw in data:\n",
    "        prediction = classifier(mileage, price)\n",
    "        if prediction and is_bmw:\n",
    "            true_positives += 1\n",
    "        elif prediction:\n",
    "            false_positives += 1\n",
    "        elif is_bmw:\n",
    "            false_negatives += 1\n",
    "        else:\n",
    "            true_negatives += 1\n",
    "    \n",
    "    if verbose:\n",
    "        print(f\"\"\"Data size: {len(data)}\\nTrue positives: {true_positives}\\nTrue negatives: {true_negatives}\\nFalse positives: {false_positives}\\nFalse negatives: {false_negatives}\"\"\")\n",
    "    total = true_positives + true_negatives\n",
    "    return total / len(data)"
   ]
  },
  {
   "cell_type": "code",
   "execution_count": null,
   "metadata": {},
   "outputs": [
    {
     "name": "stdout",
     "output_type": "stream",
     "text": [
      "Data size: 200\n",
      "True positives: 18\n",
      "True negatives: 100\n",
      "False positives: 0\n",
      "False negatives: 82\n"
     ]
    },
    {
     "data": {
      "text/plain": [
       "0.59"
      ]
     },
     "execution_count": 44,
     "metadata": {},
     "output_type": "execute_result"
    }
   ],
   "source": [
    "test_classifier_refined(bmw_finder, all_car_data, verbose=True)"
   ]
  },
  {
   "attachments": {},
   "cell_type": "markdown",
   "metadata": {},
   "source": [
    "Exercise 15.2: Find a way to update the bmw_finder function to improve its performance and use the test_classifier function to confirm that your improved function has better than 59% accuracy."
   ]
  },
  {
   "cell_type": "code",
   "execution_count": null,
   "metadata": {},
   "outputs": [
    {
     "name": "stdout",
     "output_type": "stream",
     "text": [
      "Data size: 200\n",
      "True positives: 62\n",
      "True negatives: 97\n",
      "False positives: 3\n",
      "False negatives: 38\n"
     ]
    },
    {
     "data": {
      "text/plain": [
       "0.795"
      ]
     },
     "execution_count": 45,
     "metadata": {},
     "output_type": "execute_result"
    }
   ],
   "source": [
    "test_classifier_refined(lambda m,p: 1 if m > 13000 and p > 18000 else 0, all_car_data, verbose=True)"
   ]
  },
  {
   "cell_type": "code",
   "execution_count": null,
   "metadata": {},
   "outputs": [],
   "source": [
    "def plot_data(ds):\n",
    "    plt.scatter([d[0] for d in ds if d[2]==0],[d[1] for d in ds if d[2]==0],c='C1')\n",
    "    plt.scatter([d[0] for d in ds if d[2]==1],[d[1] for d in ds if d[2]==1],c='C0',marker='x')\n",
    "    plt.ylabel(\"Price ($)\",fontsize=16)\n",
    "    plt.xlabel(\"Odometer (mi)\",fontsize=16)"
   ]
  },
  {
   "cell_type": "code",
   "execution_count": null,
   "metadata": {},
   "outputs": [
    {
     "data": {
      "image/png": "[encoded data removed]",
      "text/plain": [
       "<Figure size 640x480 with 1 Axes>"
      ]
     },
     "metadata": {},
     "output_type": "display_data"
    }
   ],
   "source": [
    "plot_data(all_car_data)"
   ]
  },
  {
   "cell_type": "code",
   "execution_count": null,
   "metadata": {},
   "outputs": [],
   "source": [
    "def decision_boundary_fn(mileage, price):\n",
    "    return 1 if price > 21000 - 0.07 * mileage else 0"
   ]
  },
  {
   "cell_type": "code",
   "execution_count": null,
   "metadata": {},
   "outputs": [
    {
     "name": "stdout",
     "output_type": "stream",
     "text": [
      "Data size: 200\n",
      "True positives: 73\n",
      "True negatives: 88\n",
      "False positives: 12\n",
      "False negatives: 27\n"
     ]
    },
    {
     "data": {
      "text/plain": [
       "0.805"
      ]
     },
     "execution_count": 49,
     "metadata": {},
     "output_type": "execute_result"
    }
   ],
   "source": [
    "test_classifier_refined(decision_boundary_fn, all_car_data, verbose=True)"
   ]
  },
  {
   "attachments": {},
   "cell_type": "markdown",
   "metadata": {},
   "source": [
    "Exercise 15.3-Mini Project: What is the decision boundary of the form p = constant that gives the best classification accuracy on the test data set?"
   ]
  },
  {
   "cell_type": "code",
   "execution_count": null,
   "metadata": {},
   "outputs": [],
   "source": [
    "def cutoff_price_classifier(cutoff_price):\n",
    "    return lambda m,p: 1 if p > cutoff_price else 0\n",
    "\n",
    "def cutoff_price_accuracy(cutoff_price):\n",
    "    price_fn = cutoff_price_classifier(cutoff_price)\n",
    "    return test_classifier_refined(price_fn, all_car_data)\n",
    "\n",
    "all_prices = [car[1] for car in all_car_data]\n",
    "most_accurate_cutoff_price = max(all_prices, key=cutoff_price_accuracy)\n"
   ]
  },
  {
   "cell_type": "code",
   "execution_count": null,
   "metadata": {},
   "outputs": [
    {
     "name": "stdout",
     "output_type": "stream",
     "text": [
      "Data size: 200\n",
      "True positives: 62\n",
      "True negatives: 97\n",
      "False positives: 3\n",
      "False negatives: 38\n"
     ]
    },
    {
     "data": {
      "text/plain": [
       "0.795"
      ]
     },
     "execution_count": 51,
     "metadata": {},
     "output_type": "execute_result"
    }
   ],
   "source": [
    "test_classifier_refined(cutoff_price_classifier(most_accurate_cutoff_price), all_car_data, verbose=True)"
   ]
  },
  {
   "cell_type": "code",
   "execution_count": null,
   "metadata": {},
   "outputs": [
    {
     "name": "stdout",
     "output_type": "stream",
     "text": [
      "Original price: 13995.0\n",
      "Scaled down price example: 0.35265032227683435\n",
      "Unscaled down price example: 13995.0\n"
     ]
    }
   ],
   "source": [
    "def make_scale(data):\n",
    "    min_val = min(data)\n",
    "    max_val = max(data)\n",
    "\n",
    "    scale = lambda x: (x - min_val) / (max_val - min_val)\n",
    "    unscale = lambda y: y * (max_val - min_val) + min_val\n",
    "    return scale, unscale\n",
    "\n",
    "scale_price,unscale_price = make_scale([c[1] for c in all_car_data])\n",
    "scale_milage,unscale_mileage = make_scale([c[0] for c in all_car_data])\n",
    "\n",
    "print(f\"Original price: {all_car_data[1][1]}\")\n",
    "print(f\"Scaled down price example: {scale_price(all_car_data[1][1])}\")\n",
    "print(f\"Unscaled down price example: {unscale_price(scale_price(all_car_data[1][1]))}\")"
   ]
  },
  {
   "cell_type": "code",
   "execution_count": null,
   "metadata": {},
   "outputs": [],
   "source": [
    "scaled_car_data = [(scale_price(car[1]), scale_milage(car[0]),car[2]) for car in all_car_data]"
   ]
  },
  {
   "cell_type": "code",
   "execution_count": null,
   "metadata": {},
   "outputs": [
    {
     "data": {
      "text/plain": [
       "[(0.35276804897430614, 0.3873793103448276, 1),\n",
       " (0.35265032227683435, 0.4878735632183908, 1),\n",
       " (0.3522677105100509, 0.39156896551724135, 1),\n",
       " (0.37042705359507905, 0.11941379310344828, 1),\n",
       " (0.6029667127762899, 0.1557816091954023, 1),\n",
       " (0.6764870353474409, 0.1882816091954023, 1),\n",
       " (0.6749860199546752, 0.47595402298850575, 1),\n",
       " (0.35265032227683435, 0.31666666666666665, 1),\n",
       " (0.18798010418812727, 0.367816091954023, 1),\n",
       " (0.38208199664478915, 0.2449022988505747, 1),\n",
       " (0.29378697354092476, 0.39080459770114945, 1),\n",
       " (0.26435529917296996, 0.382183908045977, 1),\n",
       " (0.29378697354092476, 0.4947183908045977, 1),\n",
       " (0.2792182947287871, 0.4547183908045977, 1),\n",
       " (0.0, 0.3793103448275862, 1),\n",
       " (0.32333637460635134, 0.4709942528735632, 1),\n",
       " (0.4998086941166083, 0.1724137931034483, 1),\n",
       " (0.4970126850516526, 0.432132183908046, 1),\n",
       " (0.44103364040380255, 0.22048850574712645, 1),\n",
       " (0.23507078317685492, 0.22988505747126436, 1),\n",
       " (0.3086499690967419, 0.291235632183908, 1),\n",
       " (0.41151367101274394, 0.38514367816091954, 1),\n",
       " (0.3813462047855902, 0.3156149425287356, 1),\n",
       " (0.43505901050710777, 0.40229885057471265, 1),\n",
       " (0.32333637460635134, 0.25287356321839083, 1),\n",
       " (0.2924625481943668, 0.46551724137931033, 1),\n",
       " (0.4998086941166083, 0.2988505747126437, 1),\n",
       " (0.3822291550166289, 0.2988505747126437, 1),\n",
       " (0.0, 0.3793103448275862, 1),\n",
       " (0.5871619036406981, 0.18174712643678162, 1),\n",
       " (0.4409453453806987, 0.29801149425287354, 1),\n",
       " (0.6176236866115313, 0.1282183908045977, 1),\n",
       " (0.5587603378756217, 0.14744827586206896, 1),\n",
       " (0.5291226417870912, 0.2092528735632184, 1),\n",
       " (0.823557112164111, 0.07662068965517241, 1),\n",
       " (0.5588192012243577, 0.03114942528735632, 1),\n",
       " (0.6014951290578922, 0.08774137931034483, 1),\n",
       " (0.5293580951820349, 0.27011494252873564, 1),\n",
       " (0.29378697354092476, 0.39429885057471264, 1),\n",
       " (0.6754863584189305, 0.23563218390804597, 1),\n",
       " (0.49951437737292875, 0.13793103448275862, 1),\n",
       " (0.4410630720781705, 0.27356896551724136, 1),\n",
       " (0.49951437737292875, 0.13793103448275862, 1),\n",
       " (0.4110721958972246, 0.39786781609195404, 1),\n",
       " (0.7426788710009713, 0.2471264367816092, 1),\n",
       " (0.3466168290314036, 0.27189080459770115, 1),\n",
       " (0.5873679253612738, 0.0895, 1),\n",
       " (0.7013273685139948, 0.09294252873563219, 1),\n",
       " (0.4925979338964594, 0.08669540229885057, 1),\n",
       " (0.35250316390499453, 0.319683908045977, 1),\n",
       " (0.6736027312593813, 0.06896551724137931, 1),\n",
       " (0.2939341319127645, 0.22413793103448276, 1),\n",
       " (0.4262295081967213, 0.4425287356321839, 1),\n",
       " (0.4852400153044707, 0.28735632183908044, 1),\n",
       " (0.5279159431380052, 0.04597701149425287, 1),\n",
       " (0.8089884333519733, 0.22988505747126436, 1),\n",
       " (0.4999264208140801, 0.06181609195402299, 1),\n",
       " (0.7264914500985961, 0.09586781609195402, 1),\n",
       " (0.8236159755128469, 0.017241379310344827, 1),\n",
       " (0.7344674338523118, 0.14367816091954022, 1),\n",
       " (0.7053889395767725, 0.0, 1),\n",
       " (0.480472084056862, 0.35782758620689653, 1),\n",
       " (0.568296200370839, 0.1282816091954023, 1),\n",
       " (0.4408276186832269, 0.3894367816091954, 1),\n",
       " (0.42634723489419313, 0.310183908045977, 1),\n",
       " (0.5521676428171999, 0.1619367816091954, 1),\n",
       " (0.5823645407187215, 0.09939080459770115, 1),\n",
       " (0.6761044235806575, 0.17089655172413792, 1),\n",
       " (0.6058804485387174, 0.2810114942528736, 1),\n",
       " (0.5520499161197281, 0.26598850574712646, 1),\n",
       " (0.5882508755923125, 0.18579310344827588, 1),\n",
       " (0.5587603378756217, 0.13710344827586207, 1),\n",
       " (0.5881920122435765, 0.09327011494252874, 1),\n",
       " (0.7059187097153957, 0.0696896551724138, 1),\n",
       " (0.5853077081555169, 0.11494252873563218, 1),\n",
       " (0.4852400153044707, 0.39655172413793105, 1),\n",
       " (0.5264149277452395, 0.022988505747126436, 1),\n",
       " (0.5735350384083351, 0.21264367816091953, 1),\n",
       " (0.75392177060953, 0.07951149425287356, 1),\n",
       " (0.7049180327868853, 0.14392528735632185, 1),\n",
       " (0.8530770815551697, 0.005747126436781609, 1),\n",
       " (0.6765458986961769, 0.07810919540229885, 1),\n",
       " (1.0, 0.06725862068965517, 1),\n",
       " (0.8311799158254113, 0.08889080459770116, 1),\n",
       " (0.4087176619477882, 0.3275862068965517, 1),\n",
       " (0.5881920122435765, 0.18748850574712644, 1),\n",
       " (0.5881920122435765, 0.17974712643678162, 1),\n",
       " (0.6470553609794861, 0.009310344827586206, 1),\n",
       " (0.5881920122435765, 0.08182183908045977, 1),\n",
       " (0.6176236866115313, 0.15494827586206897, 1),\n",
       " (0.9675662948465138, 0.06153448275862069, 1),\n",
       " (0.8204962180298437, 0.09404022988505747, 1),\n",
       " (0.6381964269947318, 0.10886781609195402, 1),\n",
       " (0.2645024575448097, 0.367816091954023, 1),\n",
       " (0.3233658062807193, 0.367816091954023, 1),\n",
       " (0.8524590163934426, 0.0946551724137931, 1),\n",
       " (0.5587897695499897, 0.005747126436781609, 1),\n",
       " (0.8822733025281808, 0.06321839080459771, 1),\n",
       " (8.829502310386438e-05, 0.21264367816091953, 1),\n",
       " (8.829502310386438e-05, 0.14367816091954022, 1),\n",
       " (0.35265032227683435, 0.18973563218390804, 0),\n",
       " (0.23212761574005944, 0.25287356321839083, 0),\n",
       " (0.382170291667893, 0.3362471264367816, 0),\n",
       " (0.1850369367513318, 0.28735632183908044, 0),\n",
       " (0.41160196603584775, 0.09119540229885058, 0),\n",
       " (0.3525325955793625, 0.08408620689655172, 0),\n",
       " (0.2507284339406069, 0.27586206896551724, 0),\n",
       " (0.32042263884392386, 0.25116666666666665, 0),\n",
       " (0.40724607822939046, 0.06321839080459771, 0),\n",
       " (0.35265032227683435, 0.040229885057471264, 0),\n",
       " (0.22035494599287753, 0.28160919540229884, 0),\n",
       " (0.2674456249816052, 0.05172413793103448, 0),\n",
       " (0.2936692468434529, 0.40867241379310343, 0),\n",
       " (0.18677340553904112, 0.5912758620689655, 0),\n",
       " (0.345704447125997, 0.07471264367816093, 0),\n",
       " (0.35250316390499453, 0.22413793103448276, 0),\n",
       " (0.3218942225623216, 0.06321839080459771, 0),\n",
       " (0.22035494599287753, 0.5977011494252874, 0),\n",
       " (0.32321864790887955, 0.21511494252873564, 0),\n",
       " (0.16443476469376342, 0.5402298850574713, 0),\n",
       " (0.20563910880890013, 0.27586206896551724, 0),\n",
       " (0.3522677105100509, 0.11494252873563218, 0),\n",
       " (0.3819642699473173, 0.27257471264367816, 0),\n",
       " (0.1747358507225476, 1.0, 0),\n",
       " (0.3233069429319834, 0.35735632183908045, 0),\n",
       " (0.37042705359507905, 0.3647471264367816, 0),\n",
       " (0.293639815169085, 0.29301724137931034, 0),\n",
       " (0.35250316390499453, 0.22413793103448276, 0),\n",
       " (0.30555964328810664, 0.21621264367816093, 0),\n",
       " (0.17326426700414987, 0.40229885057471265, 0),\n",
       " (0.20563910880890013, 0.27586206896551724, 0),\n",
       " (0.2645024575448097, 0.28160919540229884, 0),\n",
       " (0.20560967713453218, 0.6724137931034483, 0),\n",
       " (0.20269594137210467, 0.4942528735632184, 0),\n",
       " (0.20563910880890013, 0.27586206896551724, 0),\n",
       " (0.11587250198663802, 0.9137931034482759, 0),\n",
       " (0.3233658062807193, 0.3127816091954023, 0),\n",
       " (0.47046531477175735, 0.13020114942528735, 0),\n",
       " (0.23498248815375106, 0.4367816091954023, 0),\n",
       " (0.3819642699473173, 0.23855172413793105, 0),\n",
       " (0.49989698913971214, 0.07698275862068965, 0),\n",
       " (0.4286429054948936, 0.1065, 0),\n",
       " (0.30850281072490215, 0.2413793103448276, 0),\n",
       " (0.29390470023839654, 0.05172413793103448, 0),\n",
       " (0.30850281072490215, 0.2413793103448276, 0),\n",
       " (0.26155929010801426, 0.5114942528735632, 0),\n",
       " (0.3666892309503488, 0.23156896551724138, 0),\n",
       " (0.23507078317685492, 0.6609195402298851, 0),\n",
       " (0.22556435235600553, 0.47986206896551725, 0),\n",
       " (0.16149159725696796, 0.3218390804597701, 0),\n",
       " (0.26311916884951586, 0.4618448275862069, 0),\n",
       " (0.19975277393530919, 0.9252873563218391, 0),\n",
       " (0.2937281101921888, 0.2925977011494253, 0),\n",
       " (0.2188833622744798, 0.5229885057471264, 0),\n",
       " (0.2790417046825794, 0.5055344827586207, 0),\n",
       " (0.3083556523530624, 0.26436781609195403, 0),\n",
       " (0.2937575418665568, 0.2598735632183908, 0),\n",
       " (0.3464991023339318, 0.1317471264367816, 0),\n",
       " (0.1703210995673544, 0.42528735632183906, 0),\n",
       " (0.2638843923830827, 0.4168448275862069, 0),\n",
       " (0.44041557524207553, 0.09778735632183908, 0),\n",
       " (0.4292904023309886, 0.021235632183908046, 0),\n",
       " (0.438149336315743, 0.1071264367816092, 0),\n",
       " (0.35250316390499453, 0.1751609195402299, 0),\n",
       " (0.26626835800688703, 0.5112586206896552, 0),\n",
       " (0.3233658062807193, 0.3325344827586207, 0),\n",
       " (0.29131471289401656, 0.375367816091954, 0),\n",
       " (0.4226977072725667, 0.06321839080459771, 0),\n",
       " (0.3675133178326515, 0.11494252873563218, 0),\n",
       " (0.4408276186832269, 0.11125287356321839, 0),\n",
       " (0.44103364040380255, 0.24386206896551724, 0),\n",
       " (0.5293286635076669, 0.06746551724137931, 0),\n",
       " (0.32321864790887955, 0.3640919540229885, 0),\n",
       " (0.3380816434646967, 0.22413793103448276, 0),\n",
       " (0.3233658062807193, 0.20114942528735633, 0),\n",
       " (0.35244430055625864, 0.053936781609195406, 0),\n",
       " (0.3380816434646967, 0.22413793103448276, 0),\n",
       " (0.4349412838096359, 0.1781609195402299, 0),\n",
       " (0.3760485033993584, 0.36792528735632185, 0),\n",
       " (0.2820143037937428, 0.6327298850574713, 0),\n",
       " (0.41857727286105306, 0.005747126436781609, 0),\n",
       " (0.46787532742737736, 0.16367816091954024, 0),\n",
       " (0.4116608293845837, 0.42528735632183906, 0),\n",
       " (0.4258468964299379, 0.22930459770114942, 0),\n",
       " (0.4626953527386173, 0.005747126436781609, 0),\n",
       " (0.22918444830326398, 0.6781609195402298, 0),\n",
       " (0.46831680254289665, 0.005683908045977012, 0),\n",
       " (0.3351384760279012, 0.2394367816091954, 0),\n",
       " (0.44103364040380255, 0.07127011494252873, 0),\n",
       " (0.35276804897430614, 0.31598850574712645, 0),\n",
       " (0.4555728875415722, 0.09770114942528736, 0),\n",
       " (0.2878712069929658, 0.3530344827586207, 0),\n",
       " (0.4555434558672043, 0.04613793103448276, 0),\n",
       " (0.40577449451099273, 0.06321839080459771, 0),\n",
       " (0.5586720428525179, 0.034482758620689655, 0),\n",
       " (0.32333637460635134, 0.3620689655172414, 0),\n",
       " (0.3822291550166289, 0.21839080459770116, 0),\n",
       " (0.438149336315743, 0.10919540229885058, 0),\n",
       " (0.3380816434646967, 0.06896551724137931, 0),\n",
       " (0.3086499690967419, 0.25862068965517243, 0)]"
      ]
     },
     "execution_count": 54,
     "metadata": {},
     "output_type": "execute_result"
    }
   ],
   "source": [
    "scaled_car_data"
   ]
  },
  {
   "cell_type": "code",
   "execution_count": null,
   "metadata": {},
   "outputs": [],
   "source": [
    "def sigmoid(x):\n",
    "    return 1 / (1 + exp(-x))"
   ]
  },
  {
   "cell_type": "code",
   "execution_count": null,
   "metadata": {},
   "outputs": [
    {
     "data": {
      "text/plain": [
       "(1.0, 6.144174602214718e-06, 0.5)"
      ]
     },
     "execution_count": 64,
     "metadata": {},
     "output_type": "execute_result"
    }
   ],
   "source": [
    "sigmoid(999), sigmoid(-12),sigmoid(0)"
   ]
  },
  {
   "cell_type": "code",
   "execution_count": null,
   "metadata": {},
   "outputs": [],
   "source": [
    "def make_logistic(a,b,c):\n",
    "    return lambda x,p: sigmoid(a*x + b*c - p)"
   ]
  },
  {
   "cell_type": "code",
   "execution_count": null,
   "metadata": {},
   "outputs": [],
   "source": [
    "def simple_logistic_cost(a,b,c):\n",
    "    logistic_fn = make_logistic(a,b,c)\n",
    "    errors = [abs(is_bmw - logistic_fn(m,p)) for m,p,is_bmw in scaled_car_data]\n",
    "    return sum(errors)"
   ]
  },
  {
   "cell_type": "code",
   "execution_count": null,
   "metadata": {},
   "outputs": [
    {
     "data": {
      "text/plain": [
       "96.2404573597805"
      ]
     },
     "execution_count": 69,
     "metadata": {},
     "output_type": "execute_result"
    }
   ],
   "source": [
    "simple_logistic_cost(0.5, 0.2,0.4)"
   ]
  },
  {
   "cell_type": "code",
   "execution_count": null,
   "metadata": {},
   "outputs": [],
   "source": [
    "def point_cost(logistic_fn, x,p,is_bmw):\n",
    "    wrong_answer = 1 - is_bmw\n",
    "    return -log(abs(wrong_answer - logistic_fn(x,p)))\n",
    "\n",
    "def logistic_cost(a,b,c):\n",
    "    logistic_fn = make_logistic(a,b,c)\n",
    "    errors = [point_cost(logistic_fn, m,p,is_bmw) for m,p,is_bmw in scaled_car_data]\n",
    "    return sum(errors)"
   ]
  }
 ],
 "metadata": {
  "kernelspec": {
   "display_name": "base",
   "language": "python",
   "name": "python3"
  },
  "language_info": {
   "codemirror_mode": {
    "name": "ipython",
    "version": 3
   },
   "file_extension": ".py",
   "mimetype": "text/x-python",
   "name": "python",
   "nbconvert_exporter": "python",
   "pygments_lexer": "ipython3",
   "version": "3.11.7"
  },
  "orig_nbformat": 4
 },
 "nbformat": 4,
 "nbformat_minor": 2
}
