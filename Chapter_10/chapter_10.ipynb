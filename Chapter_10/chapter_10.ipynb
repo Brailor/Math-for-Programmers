{
 "cells": [
  {
   "cell_type": "code",
   "execution_count": 101,
   "metadata": {},
   "outputs": [
    {
     "name": "stdout",
     "output_type": "stream",
     "text": [
      "The autoreload extension is already loaded. To reload it, use:\n",
      "  %reload_ext autoreload\n"
     ]
    },
    {
     "name": "stderr",
     "output_type": "stream",
     "text": [
      "[autoreload of chapter_10 failed: Traceback (most recent call last):\n",
      "  File \"/Users/viktorohad/anaconda3/lib/python3.11/site-packages/IPython/extensions/autoreload.py\", line 276, in check\n",
      "    superreload(m, reload, self.old_objects)\n",
      "  File \"/Users/viktorohad/anaconda3/lib/python3.11/site-packages/IPython/extensions/autoreload.py\", line 500, in superreload\n",
      "    update_generic(old_obj, new_obj)\n",
      "  File \"/Users/viktorohad/anaconda3/lib/python3.11/site-packages/IPython/extensions/autoreload.py\", line 397, in update_generic\n",
      "    update(a, b)\n",
      "  File \"/Users/viktorohad/anaconda3/lib/python3.11/site-packages/IPython/extensions/autoreload.py\", line 349, in update_class\n",
      "    if update_generic(old_obj, new_obj):\n",
      "       ^^^^^^^^^^^^^^^^^^^^^^^^^^^^^^^^\n",
      "  File \"/Users/viktorohad/anaconda3/lib/python3.11/site-packages/IPython/extensions/autoreload.py\", line 397, in update_generic\n",
      "    update(a, b)\n",
      "  File \"/Users/viktorohad/anaconda3/lib/python3.11/site-packages/IPython/extensions/autoreload.py\", line 309, in update_function\n",
      "    setattr(old, name, getattr(new, name))\n",
      "ValueError: expand() requires a code object with 1 free vars, not 0\n",
      "]\n"
     ]
    }
   ],
   "source": [
    "%load_ext autoreload\n",
    "%autoreload 2\n",
    "\n",
    "from chapter_10 import *\n",
    "import math"
   ]
  },
  {
   "cell_type": "code",
   "execution_count": 102,
   "metadata": {},
   "outputs": [
    {
     "data": {
      "text/plain": [
       "<chapter_10.Power at 0x10c26d7d0>"
      ]
     },
     "execution_count": 102,
     "metadata": {},
     "output_type": "execute_result"
    }
   ],
   "source": [
    "# x^2\n",
    "Power(Variable(\"x\"), Number(2))"
   ]
  },
  {
   "cell_type": "code",
   "execution_count": 103,
   "metadata": {},
   "outputs": [
    {
     "data": {
      "text/plain": [
       "<chapter_10.Product at 0x10c296ad0>"
      ]
     },
     "execution_count": 103,
     "metadata": {},
     "output_type": "execute_result"
    }
   ],
   "source": [
    "# 3x^2\n",
    "Product(Number(3), Power(Variable(\"x\"), Number(2)))"
   ]
  },
  {
   "cell_type": "code",
   "execution_count": 104,
   "metadata": {},
   "outputs": [
    {
     "data": {
      "text/plain": [
       "<chapter_10.Sum at 0x10c2b19d0>"
      ]
     },
     "execution_count": 104,
     "metadata": {},
     "output_type": "execute_result"
    }
   ],
   "source": [
    "Sum(Number(2), Number(3))"
   ]
  },
  {
   "cell_type": "code",
   "execution_count": 105,
   "metadata": {},
   "outputs": [],
   "source": [
    "# (3x2 + x) * sin(x)\n",
    "f_expression = Product(\n",
    "    Sum(\n",
    "        Product(\n",
    "            Number(3),\n",
    "            Power(\"x\", Number(2))\n",
    "        ),\n",
    "        Variable(\"x\")\n",
    "    ),\n",
    "    Apply(\n",
    "        Function(\"sin\"),\n",
    "        Variable(\"x\")\n",
    "    )\n",
    ")"
   ]
  },
  {
   "attachments": {},
   "cell_type": "markdown",
   "metadata": {},
   "source": [
    "Exercise 10.1: You may have met the natural logarithm, a special mathematical function written ln(x). Draw the expression ln(yz) as a tree built from the elements and combinators described in the previous section."
   ]
  },
  {
   "attachments": {},
   "cell_type": "markdown",
   "metadata": {},
   "source": [
    "ln(y^z)"
   ]
  },
  {
   "attachments": {},
   "cell_type": "markdown",
   "metadata": {},
   "source": [
    "Exercise 10.2: Translate the expression from the previous exercise to Python code, given that the natural logarithm is calculated by the Python function math.log. Write it both as a Python function and as a data structure built from elements and combinators."
   ]
  },
  {
   "cell_type": "code",
   "execution_count": 106,
   "metadata": {},
   "outputs": [
    {
     "data": {
      "text/plain": [
       "1.3979400086720377"
      ]
     },
     "execution_count": 106,
     "metadata": {},
     "output_type": "execute_result"
    }
   ],
   "source": [
    "y = 5\n",
    "z = 2\n",
    "sol_10_2_py = math.log10(math.pow(y, z))\n",
    "sol_10_2_dst = Apply(\n",
    "    Function(\"ln\"),\n",
    "    Power(\n",
    "        Variable(\"y\"),\n",
    "        Variable(\"z\")\n",
    "    )\n",
    ")\n",
    "\n",
    "sol_10_2_py"
   ]
  },
  {
   "attachments": {},
   "cell_type": "markdown",
   "metadata": {},
   "source": [
    "Exercise 10.3: What is the expression represented by Product(Number(3), Sum(Variable(\"y\"),Variable(\"z\"))) ?"
   ]
  },
  {
   "attachments": {},
   "cell_type": "markdown",
   "metadata": {},
   "source": [
    "It is: 3 * (y + z)"
   ]
  },
  {
   "attachments": {},
   "cell_type": "markdown",
   "metadata": {},
   "source": [
    "\n",
    "\n",
    "Exercise 10.4: Implement a Quotient combinator representing one expression divided by another. How do you represent the following expression?\n"
   ]
  },
  {
   "cell_type": "code",
   "execution_count": 107,
   "metadata": {},
   "outputs": [],
   "source": [
    "# (a + b) / 2\n",
    "sol_10_4_dst = Quotient(\n",
    "    Sum(\n",
    "        Variable(\"a\"),\n",
    "        Variable(\"b\")\n",
    "    ),\n",
    "    Number(2)\n",
    ")\n"
   ]
  },
  {
   "attachments": {},
   "cell_type": "markdown",
   "metadata": {},
   "source": [
    "Exercise 10.5: Implement a Difference combinator representing one expression subtracted from another. How can you represent the expression b^2 − 4ac ?"
   ]
  },
  {
   "cell_type": "code",
   "execution_count": 108,
   "metadata": {},
   "outputs": [],
   "source": [
    "sol_10_5_dst = Difference(\n",
    "    Power(\n",
    "        Variable(\"b\"),\n",
    "        Number(2)\n",
    "    ),\n",
    "    Product(\n",
    "        Number(4),\n",
    "        Product(\n",
    "            Variable(\"a\"),\n",
    "            Variable(\"c\")\n",
    "        )\n",
    "    )\n",
    ")"
   ]
  },
  {
   "attachments": {},
   "cell_type": "markdown",
   "metadata": {},
   "source": [
    "Exercise 10.6: Implement a Negative combinator representing the negation of an expression. For example, the negation of x^2 + y is −(x^2 + y). Represent the latter expression in code using your new combinator."
   ]
  },
  {
   "cell_type": "code",
   "execution_count": 109,
   "metadata": {},
   "outputs": [],
   "source": [
    "sol_10_6_dst = Negative(\n",
    "    Sum(\n",
    "        Power(\n",
    "            Variable(\"x\"),\n",
    "            Number(2)\n",
    "        ),\n",
    "        Variable(\"y\")\n",
    "    )\n",
    ")"
   ]
  },
  {
   "attachments": {},
   "cell_type": "markdown",
   "metadata": {},
   "source": [
    "Exercise 10.7: Add a function called Sqrt that represents a square root and use it to encode the following formula:\n",
    "-b +- sqrt(b^2 - 4 ac) / 2a"
   ]
  },
  {
   "cell_type": "code",
   "execution_count": 110,
   "metadata": {},
   "outputs": [],
   "source": [
    "A = Variable('a')\n",
    "B = Variable('b')\n",
    "C = Variable('c')\n",
    "Sqrt = Function('sqrt')\n",
    "\n",
    "sol_10_7_dst = Quotient(\n",
    "    Sum(\n",
    "        Negative(B),\n",
    "        Apply(\n",
    "            Sqrt,\n",
    "            Difference(\n",
    "                Power(B, Number(2)),\n",
    "                Product(Number(4), Product(A, C))\n",
    "            )\n",
    "         )\n",
    "    ),\n",
    "    Product(Number(2), A)\n",
    ")"
   ]
  },
  {
   "cell_type": "code",
   "execution_count": 111,
   "metadata": {},
   "outputs": [
    {
     "data": {
      "text/plain": [
       "{'x'}"
      ]
     },
     "execution_count": 111,
     "metadata": {},
     "output_type": "execute_result"
    }
   ],
   "source": [
    "distinct_variables(Variable(\"x\"))"
   ]
  },
  {
   "cell_type": "code",
   "execution_count": 112,
   "metadata": {},
   "outputs": [
    {
     "data": {
      "text/plain": [
       "{'x', 'y'}"
      ]
     },
     "execution_count": 112,
     "metadata": {},
     "output_type": "execute_result"
    }
   ],
   "source": [
    "distinct_variables(Sum(Variable(\"x\"), Variable(\"y\")))"
   ]
  },
  {
   "cell_type": "code",
   "execution_count": 113,
   "metadata": {},
   "outputs": [
    {
     "data": {
      "text/plain": [
       "{'x'}"
      ]
     },
     "execution_count": 113,
     "metadata": {},
     "output_type": "execute_result"
    }
   ],
   "source": [
    "distinct_variables(f_expression)"
   ]
  },
  {
   "cell_type": "code",
   "execution_count": 114,
   "metadata": {},
   "outputs": [
    {
     "data": {
      "text/plain": [
       "{'a', 'b', 'c'}"
      ]
     },
     "execution_count": 114,
     "metadata": {},
     "output_type": "execute_result"
    }
   ],
   "source": [
    "distinct_variables(sol_10_7_dst)"
   ]
  },
  {
   "cell_type": "code",
   "execution_count": 115,
   "metadata": {},
   "outputs": [
    {
     "data": {
      "text/plain": [
       "KeyError('Variable y is not bound.')"
      ]
     },
     "execution_count": 115,
     "metadata": {},
     "output_type": "execute_result"
    }
   ],
   "source": [
    "Variable(\"y\").evaluate(x = 8)"
   ]
  },
  {
   "cell_type": "code",
   "execution_count": 116,
   "metadata": {},
   "outputs": [
    {
     "data": {
      "text/plain": [
       "4"
      ]
     },
     "execution_count": 116,
     "metadata": {},
     "output_type": "execute_result"
    }
   ],
   "source": [
    "Variable(\"y\").evaluate(y = 4, x = 5)"
   ]
  },
  {
   "cell_type": "code",
   "execution_count": 117,
   "metadata": {},
   "outputs": [
    {
     "data": {
      "text/plain": [
       "5"
      ]
     },
     "execution_count": 117,
     "metadata": {},
     "output_type": "execute_result"
    }
   ],
   "source": [
    "Number(5).evaluate(x = 10, y = 20)"
   ]
  },
  {
   "cell_type": "code",
   "execution_count": 118,
   "metadata": {},
   "outputs": [
    {
     "data": {
      "text/plain": [
       "10"
      ]
     },
     "execution_count": 118,
     "metadata": {},
     "output_type": "execute_result"
    }
   ],
   "source": [
    "Product(Variable(\"x\"), Variable(\"y\")).evaluate(x=2,y=5)"
   ]
  },
  {
   "cell_type": "code",
   "execution_count": 119,
   "metadata": {},
   "outputs": [],
   "source": [
    "# 5 + A(x + y) => 5 + Ax + Ay\n",
    "res = Sum(\n",
    "    Number(5),\n",
    "    Sum(\n",
    "        Number(2),\n",
    "        Variable(\"a\")\n",
    "    )\n",
    ")"
   ]
  },
  {
   "cell_type": "code",
   "execution_count": null,
   "metadata": {},
   "outputs": [],
   "source": [
    "# A(x + y)\n",
    "res1 = Product(\n",
    "    Variable(\"A\"),\n",
    "    Sum(\n",
    "        Variable(\"x\"),\n",
    "        Variable(\"y\")\n",
    "    )\n",
    ")"
   ]
  }
 ],
 "metadata": {
  "kernelspec": {
   "display_name": "base",
   "language": "python",
   "name": "python3"
  },
  "language_info": {
   "codemirror_mode": {
    "name": "ipython",
    "version": 3
   },
   "file_extension": ".py",
   "mimetype": "text/x-python",
   "name": "python",
   "nbconvert_exporter": "python",
   "pygments_lexer": "ipython3",
   "version": "3.11.7"
  },
  "orig_nbformat": 4
 },
 "nbformat": 4,
 "nbformat_minor": 2
}
